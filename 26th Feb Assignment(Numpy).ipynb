{
 "cells": [
  {
   "cell_type": "markdown",
   "id": "9da233c5-1d8d-49c2-ba39-33c76f6f6632",
   "metadata": {},
   "source": [
    "Consider the below code to answer further questions:"
   ]
  },
  {
   "cell_type": "code",
   "execution_count": 1,
   "id": "7a587e77-e099-4ff5-91c8-bf4c8a02b03a",
   "metadata": {},
   "outputs": [],
   "source": [
    "import numpy as np\n",
    "list_ = ['1', '2', '3', '4', '5']\n",
    "array_list = np.array(object = list_)"
   ]
  },
  {
   "cell_type": "markdown",
   "id": "43bb9fea-87c2-4d0e-801e-3018e406b246",
   "metadata": {},
   "source": [
    "Q1. Is there any difference in the data type of variables list_ and array_list? If there is then write a code\n",
    "to print the data types of both the variables.\n",
    "\n",
    "    Yes, there is difference between data type of variables list_ and array_list.\n",
    "    If we check the datatype of list_ it will give list. \n",
    "\n",
    "    If we check the datatype of array_list it will give ndarray (n dimension array). \n",
    "    as list_ converted to array by np.array()."
   ]
  },
  {
   "cell_type": "code",
   "execution_count": 2,
   "id": "9b38b749-c02c-42b5-bc37-e8b3ab1054e3",
   "metadata": {},
   "outputs": [
    {
     "data": {
      "text/plain": [
       "list"
      ]
     },
     "execution_count": 2,
     "metadata": {},
     "output_type": "execute_result"
    }
   ],
   "source": [
    "# Data type of list_\n",
    "type(list_)"
   ]
  },
  {
   "cell_type": "code",
   "execution_count": 3,
   "id": "d7f6bb4d-57af-4d2d-841a-04110f65bd1a",
   "metadata": {},
   "outputs": [
    {
     "data": {
      "text/plain": [
       "numpy.ndarray"
      ]
     },
     "execution_count": 3,
     "metadata": {},
     "output_type": "execute_result"
    }
   ],
   "source": [
    "# Data type of array_List\n",
    "type(array_list)"
   ]
  },
  {
   "cell_type": "markdown",
   "id": "869cefed-0857-491f-9589-994da3cb0565",
   "metadata": {},
   "source": [
    "Q2. Write a code to print the data type of each and every element of both the variables list_ and\n",
    "arra_list."
   ]
  },
  {
   "cell_type": "code",
   "execution_count": 4,
   "id": "b55eb015-0405-4f2f-b5ad-6dce750c4b7f",
   "metadata": {},
   "outputs": [
    {
     "data": {
      "text/plain": [
       "[str, str, str, str, str]"
      ]
     },
     "execution_count": 4,
     "metadata": {},
     "output_type": "execute_result"
    }
   ],
   "source": [
    "# Data type of each element of list_\n",
    "[type(i) for i in list_]"
   ]
  },
  {
   "cell_type": "code",
   "execution_count": 5,
   "id": "79c00096-9363-4e22-98c8-f983062b5f85",
   "metadata": {},
   "outputs": [
    {
     "data": {
      "text/plain": [
       "[numpy.str_, numpy.str_, numpy.str_, numpy.str_, numpy.str_]"
      ]
     },
     "execution_count": 5,
     "metadata": {},
     "output_type": "execute_result"
    }
   ],
   "source": [
    "# Data type of each element of array_list\n",
    "[type(i) for i in array_list]"
   ]
  },
  {
   "cell_type": "markdown",
   "id": "ab659619-bde3-4f6a-b686-18c304fde451",
   "metadata": {},
   "source": [
    "Q3. Considering the following changes in the variable, array_list:\n",
    "\n",
    "arra_list = np.array(object = list_, dtype = int)\n",
    "\n",
    "Will there be any difference in the data type of the elements present in both the variables, list_ and\n",
    "arra_list? If so then print the data types of each and every element present in both the variables, list_\n",
    "and arra_list.\n",
    "\n",
    "    Yes, there will be difference in the data type of the elements present in both the \n",
    "    variables. \n",
    "    If we check the data type of list_ it will give list.\n",
    "    If we check the data type of arra_list it will give integer because in forming\n",
    "    arra_list we give data type int."
   ]
  },
  {
   "cell_type": "code",
   "execution_count": 6,
   "id": "d7e4a6c8-849b-456d-80e9-693443a78ee6",
   "metadata": {},
   "outputs": [],
   "source": [
    "arra_list = np.array(object = list_, dtype = int)"
   ]
  },
  {
   "cell_type": "code",
   "execution_count": 7,
   "id": "876ad751-8632-4cd7-9025-31bff7d259de",
   "metadata": {},
   "outputs": [
    {
     "data": {
      "text/plain": [
       "[str, str, str, str, str]"
      ]
     },
     "execution_count": 7,
     "metadata": {},
     "output_type": "execute_result"
    }
   ],
   "source": [
    "# # Data type of each element of list_\n",
    "[type(i) for i in list_]"
   ]
  },
  {
   "cell_type": "code",
   "execution_count": 8,
   "id": "6e815aec-384b-44f4-8310-0aa2ad1e79f4",
   "metadata": {},
   "outputs": [
    {
     "data": {
      "text/plain": [
       "[numpy.int64, numpy.int64, numpy.int64, numpy.int64, numpy.int64]"
      ]
     },
     "execution_count": 8,
     "metadata": {},
     "output_type": "execute_result"
    }
   ],
   "source": [
    "# Data type of each element of arra_list\n",
    "[type(i) for i in arra_list]"
   ]
  },
  {
   "cell_type": "markdown",
   "id": "9e968dc0-9e9a-45d1-a5bd-99e768eb38bc",
   "metadata": {},
   "source": [
    "Consider the below code to answer further questions:"
   ]
  },
  {
   "cell_type": "code",
   "execution_count": 9,
   "id": "40e9e99f-6bfe-472c-8293-51322875d1bd",
   "metadata": {},
   "outputs": [],
   "source": [
    "import numpy as np\n",
    "num_list = [ [ 1 , 2 , 3 ] , [ 4 , 5 , 6 ] ]\n",
    "num_array = np.array(object = num_list)"
   ]
  },
  {
   "cell_type": "markdown",
   "id": "795b1bec-d820-457f-9f4a-f84b101735a1",
   "metadata": {},
   "source": [
    "Q4. Write a code to find the following characteristics of variable, num_array:\n",
    "\n",
    "(i) shape\n",
    "(ii) size"
   ]
  },
  {
   "cell_type": "code",
   "execution_count": 10,
   "id": "ca475b0d-23cb-40e1-825a-4f61a51f9f3f",
   "metadata": {},
   "outputs": [
    {
     "data": {
      "text/plain": [
       "(2, 3)"
      ]
     },
     "execution_count": 10,
     "metadata": {},
     "output_type": "execute_result"
    }
   ],
   "source": [
    "# Shape of num_array\n",
    "num_array.shape"
   ]
  },
  {
   "cell_type": "code",
   "execution_count": 11,
   "id": "6ad6c59a-47eb-4227-939c-9255e6b7bfed",
   "metadata": {},
   "outputs": [
    {
     "data": {
      "text/plain": [
       "6"
      ]
     },
     "execution_count": 11,
     "metadata": {},
     "output_type": "execute_result"
    }
   ],
   "source": [
    "# Size of num_array\n",
    "num_array.size"
   ]
  },
  {
   "cell_type": "markdown",
   "id": "a7d39677-8ec8-4fbe-b3ad-1acc95ae2605",
   "metadata": {},
   "source": [
    "Q5. Write a code to create numpy array of 3*3 matrix containing zeros only, using a numpy array\n",
    "creation function."
   ]
  },
  {
   "cell_type": "code",
   "execution_count": 12,
   "id": "ced1563d-fe08-4cbb-b532-a39bbc2072dc",
   "metadata": {},
   "outputs": [
    {
     "data": {
      "text/plain": [
       "array([[0., 0., 0.],\n",
       "       [0., 0., 0.],\n",
       "       [0., 0., 0.]])"
      ]
     },
     "execution_count": 12,
     "metadata": {},
     "output_type": "execute_result"
    }
   ],
   "source": [
    "import numpy as np\n",
    "zero_matrix = np.zeros((3,3))\n",
    "zero_matrix"
   ]
  },
  {
   "cell_type": "markdown",
   "id": "607bf357-7203-4d9b-9369-33f0010e65e0",
   "metadata": {},
   "source": [
    "Q6. Create an identity matrix of shape (5,5) using numpy functions."
   ]
  },
  {
   "cell_type": "code",
   "execution_count": 13,
   "id": "f2ad13da-df6f-42cb-9d32-f10500911745",
   "metadata": {},
   "outputs": [
    {
     "data": {
      "text/plain": [
       "array([[1., 0., 0., 0., 0.],\n",
       "       [0., 1., 0., 0., 0.],\n",
       "       [0., 0., 1., 0., 0.],\n",
       "       [0., 0., 0., 1., 0.],\n",
       "       [0., 0., 0., 0., 1.]])"
      ]
     },
     "execution_count": 13,
     "metadata": {},
     "output_type": "execute_result"
    }
   ],
   "source": [
    "import numpy as np\n",
    "identity_matrix = np.eye(5)\n",
    "identity_matrix"
   ]
  },
  {
   "cell_type": "code",
   "execution_count": null,
   "id": "f8eb1da2-53ae-4070-b5e1-d5d99c532ada",
   "metadata": {},
   "outputs": [],
   "source": []
  }
 ],
 "metadata": {
  "kernelspec": {
   "display_name": "Python 3 (ipykernel)",
   "language": "python",
   "name": "python3"
  },
  "language_info": {
   "codemirror_mode": {
    "name": "ipython",
    "version": 3
   },
   "file_extension": ".py",
   "mimetype": "text/x-python",
   "name": "python",
   "nbconvert_exporter": "python",
   "pygments_lexer": "ipython3",
   "version": "3.10.8"
  }
 },
 "nbformat": 4,
 "nbformat_minor": 5
}
